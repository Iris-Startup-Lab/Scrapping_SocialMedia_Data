{
 "cells": [
  {
   "cell_type": "markdown",
   "id": "0ba4e6a8",
   "metadata": {},
   "source": [
    "## Global Variables"
   ]
  },
  {
   "cell_type": "code",
   "execution_count": 19,
   "id": "a5b1673f",
   "metadata": {},
   "outputs": [],
   "source": [
    "main_testing_path='E:/Users/1167486/Local/data/data_for_testing/'"
   ]
  },
  {
   "cell_type": "markdown",
   "id": "5ddff4bf",
   "metadata": {},
   "source": [
    "## Test Zone\n",
    "### I've created this notebook to test the functions created for the app"
   ]
  },
  {
   "cell_type": "markdown",
   "id": "62a2f857",
   "metadata": {},
   "source": [
    "### Emotion functions and alternatives"
   ]
  },
  {
   "cell_type": "code",
   "execution_count": 20,
   "id": "0cabe3af",
   "metadata": {},
   "outputs": [],
   "source": [
    "import spacy\n",
    "from spacytextblob.spacytextblob import SpacyTextBlob\n",
    "from pysentimiento import create_analyzer\n",
    "from transformers import pipeline\n",
    "import torch # Puede ser necesario instalar pytorch\n"
   ]
  },
  {
   "cell_type": "code",
   "execution_count": 21,
   "id": "ccbbb444",
   "metadata": {},
   "outputs": [
    {
     "data": {
      "text/plain": [
       "True"
      ]
     },
     "execution_count": 21,
     "metadata": {},
     "output_type": "execute_result"
    }
   ],
   "source": [
    "#### Gemma Generated \n",
    "### Nueva función generada de Gemma\n",
    "import os \n",
    "\n",
    "from google import genai\n",
    "from dotenv import load_dotenv\n",
    "load_dotenv()\n"
   ]
  },
  {
   "cell_type": "code",
   "execution_count": 22,
   "id": "5d491e90",
   "metadata": {},
   "outputs": [],
   "source": [
    "GEMINI_API_KEY  = os.getenv('GEMINI_API_KEY')\n",
    "GOOGLE_API_KEY  = os.getenv('GEMINI_API_KEY')\n"
   ]
  },
  {
   "cell_type": "code",
   "execution_count": 24,
   "id": "8669586d",
   "metadata": {},
   "outputs": [
    {
     "name": "stderr",
     "output_type": "stream",
     "text": [
      "Both GOOGLE_API_KEY and GEMINI_API_KEY are set. Using GOOGLE_API_KEY.\n"
     ]
    }
   ],
   "source": [
    "clientGenai  = genai.Client(api_key= GOOGLE_API_KEY)\n"
   ]
  },
  {
   "cell_type": "code",
   "execution_count": 25,
   "id": "5b55af0e",
   "metadata": {},
   "outputs": [
    {
     "data": {
      "text/plain": [
       "GenerateContentResponse(\n",
       "  automatic_function_calling_history=[],\n",
       "  candidates=[\n",
       "    Candidate(\n",
       "      avg_logprobs=-0.25623297691345215,\n",
       "      content=Content(\n",
       "        parts=[\n",
       "          Part(\n",
       "            text=\"\"\"La capital de México es Ciudad de México.\n",
       "\"\"\"\n",
       "          ),\n",
       "        ],\n",
       "        role='model'\n",
       "      ),\n",
       "      finish_reason=<FinishReason.STOP: 'STOP'>\n",
       "    ),\n",
       "  ],\n",
       "  model_version='gemini-2.0-flash',\n",
       "  sdk_http_response=HttpResponse(\n",
       "    headers=<dict len=11>\n",
       "  ),\n",
       "  usage_metadata=GenerateContentResponseUsageMetadata(\n",
       "    candidates_token_count=10,\n",
       "    candidates_tokens_details=[\n",
       "      ModalityTokenCount(\n",
       "        modality=<MediaModality.TEXT: 'TEXT'>,\n",
       "        token_count=10\n",
       "      ),\n",
       "    ],\n",
       "    prompt_token_count=8,\n",
       "    prompt_tokens_details=[\n",
       "      ModalityTokenCount(\n",
       "        modality=<MediaModality.TEXT: 'TEXT'>,\n",
       "        token_count=8\n",
       "      ),\n",
       "    ],\n",
       "    total_token_count=18\n",
       "  )\n",
       ")"
      ]
     },
     "execution_count": 25,
     "metadata": {},
     "output_type": "execute_result"
    }
   ],
   "source": [
    "clientGenai.models.generate_content(model = 'gemini-2.0-flash', contents='¿Cuál es la capital de México?')"
   ]
  },
  {
   "cell_type": "code",
   "execution_count": 3,
   "metadata": {},
   "outputs": [],
   "source": [
    "spacy_model = 'es_core_news_md'\n",
    "nlp = spacy.load(spacy_model)\n",
    "if not nlp.has_pipe('spacytextblob'):\n",
    "    nlp.add_pipe('spacytextblob')\n",
    "\n",
    "\n",
    "\n",
    "emotions_analyzer = create_analyzer(task='emotion', lang='es')\n",
    "sentiments_analyzer = create_analyzer(task='sentiment', lang='es')\n",
    "\n",
    "\n",
    "sentiment_model_name = \"nlptown/bert-base-multilingual-uncased-sentiment\"\n",
    "#emotion_model_name = \"Toshifumi/bert-base-multilingual-cased-finetuned-emotion\"\n",
    "emotion_model_name = \"rmtariq/multilingual-emotion-classifier\"\n",
    "device = 0 if torch.cuda.is_available() else -1 # Usar GPU si está disponible\n",
    "\n",
    "emotion_pipeline = pipeline(\"text-classification\", model=emotion_model_name, \n",
    "                            device=device )\n",
    "sentiment_pipeline = pipeline(\"sentiment-analysis\", model=sentiment_model_name, \n",
    "                              device=device)\n"
   ]
  },
  {
   "cell_type": "code",
   "execution_count": 4,
   "id": "eb71bec2",
   "metadata": {},
   "outputs": [],
   "source": [
    "def generate_emotions_analysis(text):\n",
    "    text = str(text)\n",
    "    analyzer = emotions_analyzer\n",
    "    if analyzer is None:\n",
    "        return \"Error interno modelo de emociones\"\n",
    "    emotion_map_es = {\n",
    "        \"joy\": \"Alegría\", \n",
    "        \"sadness\": \"Tristeza\",\n",
    "        \"anger\": \"Enojo\", \n",
    "        \"fear\": \"Miedo\", \n",
    "        \"surprise\": \"Sorpresa\", \n",
    "        \"disgust\": \"Asco\", \n",
    "        \"neutral\": \"Neutral\"\n",
    "    }\n",
    "    try:\n",
    "        result = analyzer.predict(text)\n",
    "        primary_emotion_en = result.output\n",
    "        if primary_emotion_en==\"others\":\n",
    "            primary_emotion_en=\"neutral\"\n",
    "        return emotion_map_es.get(primary_emotion_en, \"Desconocida\")\n",
    "    except Exception as e:\n",
    "        print('Error en el modelo de emociones {e}')\n",
    "        return 'Análisis de emociones fallido'\n",
    "\n",
    "def sentiment_based_on_emotions_analysis(text):\n",
    "    text = str(text)\n",
    "    emotions_available = ['Alegría', 'Tristeza', 'Enojo', 'Miedo', 'Sorpresa', 'Asco', 'Neutral', 'Desconocida']\n",
    "    positive_emotions = ['Alegría', 'Sorpresa']\n",
    "    negative_emotions = ['Tristeza', 'Enojo', 'Miedo', 'Asco']\n",
    "    if text in emotions_available:\n",
    "        if text in positive_emotions:\n",
    "            return 'Positivo'\n",
    "        elif text in negative_emotions:\n",
    "            return 'Negativo'\n",
    "        elif text=='Neutral':\n",
    "            return 'Neutral'\n",
    "    else:\n",
    "        return 'Neutral'\n",
    "\n",
    "\n",
    "\n",
    "def generate_sentiment_analysis(text):\n",
    "    text= str(text) ## Hay que asegurarse que sea texto \n",
    "    #### Combinación entre spacy y pysentimiento  por si las dudas dudosas\n",
    "    nlp_model =nlp \n",
    "    if nlp_model:\n",
    "        doc = nlp_model(text)\n",
    "        polarity_spacy = doc._.blob.polarity\n",
    "        if polarity_spacy > 0.1:\n",
    "            return 'Positivo'  \n",
    "        elif polarity_spacy < -0.1:\n",
    "            return 'Negativo' \n",
    "        else:\n",
    "            sentiment_spacy_neutral = 'Neutral'                \n",
    "            analyzer_pysent = sentiments_analyzer\n",
    "            if analyzer_pysent: \n",
    "                try: \n",
    "                    result_pysentimiento = analyzer_pysent.predict(text)\n",
    "                    pysent_sentiment_map = {'POS': 'Positivo', 'NEG': 'Negativo', 'NEU': 'Neutral'}\n",
    "                    sentiment_pysent = pysent_sentiment_map.get(result_pysentimiento.output, 'Neutral')\n",
    "                    if sentiment_pysent != 'Neutral':\n",
    "                        return sentiment_pysent\n",
    "                    else:\n",
    "                        return sentiment_spacy_neutral\n",
    "                except Exception as e: \n",
    "                 return sentiment_spacy_neutral\n",
    "            else: \n",
    "                return sentiment_spacy_neutral\n",
    "    else: \n",
    "        print('NLP no encontrado, ahora usemos pysentimiento')\n",
    "        analyzer_pysent = sentiments_analyzer\n",
    "\n",
    "        if analyzer_pysent:\n",
    "            try:\n",
    "                result = analyzer_pysent.predict(text)\n",
    "                pysent_sentiment_map = {\"POS\": \"Positivo\", \"NEG\": \"Negativo\", \"NEU\": \"Neutral\"}\n",
    "                return pysent_sentiment_map.get(result.output, \"Neutral\")\n",
    "            except Exception as e:\n",
    "                    print(f\"Error en pysentimiento: {e}\")\n",
    "                    return \"Error: Análisis de sentimiento (Pysentimiento) fallido\"\n",
    "        else: # Both Spacy and Pysentimiento are unavailable\n",
    "            return \"Error: Modelos de sentimiento no disponibles\"        \n",
    "\n"
   ]
  },
  {
   "cell_type": "code",
   "execution_count": 5,
   "id": "17707d2d",
   "metadata": {},
   "outputs": [],
   "source": [
    "def generate_sentiment_hf(text):\n",
    "    \"\"\"\n",
    "    Función alternativa para generar sentimiento usando un pipeline de Transformers.\n",
    "    \"\"\"\n",
    "    text = str(text)\n",
    "    \n",
    "    try:\n",
    "        results = sentiment_pipeline(text)\n",
    "        real_score = results[0]['score']\n",
    "        if real_score>=0.75:\n",
    "            # El modelo 'nlptown' devuelve estrellas (1 a 5)\n",
    "            # Podemos mapear esto a Positivo, Negativo, Neutral\n",
    "            score = int(results[0]['label'].split()[0]) \n",
    "            if score > 3:\n",
    "                return \"Positivo\"\n",
    "            elif score < 3:\n",
    "                return \"Negativo\"\n",
    "            else: \n",
    "                return 'Neutral'\n",
    "        else:\n",
    "            return 'Neutral'\n",
    "    except Exception as e:\n",
    "        print(f\"Error en el análisis con Transformers: {e}\")\n",
    "        return \"Análisis de sentimiento fallido\"\n",
    "\n",
    "\n",
    "\n",
    "\n",
    "def generate_emotion_hf(text):\n",
    "    \"\"\"\n",
    "    Función alternativa para generar sentimiento usando un pipeline de Transformers.\n",
    "    \"\"\"\n",
    "    text = str(text)\n",
    "    emotion_map_es = {\n",
    "        \"anger\": \"Enojo\", \n",
    "        \"fear\": \"Miedo\",\n",
    "        \"happy\": \"Felicidad\", \n",
    "        \"love\": \"Amor\", \n",
    "        \"sadness\": \"Tristeza\", \n",
    "        \"surprise\": \"Sorpresa\", \n",
    "        \"neutral\": \"Neutral\"\n",
    "    }\n",
    "\n",
    "    try:\n",
    "        results = emotion_pipeline(text)\n",
    "        score = results[0]['score']\n",
    "        if score >= 0.8:\n",
    "            return emotion_map_es.get(results[0]['label'], 'Desconocida')\n",
    "        else:\n",
    "            return 'Neutral'\n",
    "    except Exception as e:\n",
    "        print(f\"Error en el análisis con Transformers: {e}\")\n",
    "        return \"Análisis de sentimiento fallido\"\n"
   ]
  },
  {
   "cell_type": "code",
   "execution_count": null,
   "id": "283a9eda",
   "metadata": {},
   "outputs": [],
   "source": [
    "model ='gemini-2.0-flash'"
   ]
  },
  {
   "cell_type": "code",
   "execution_count": 17,
   "id": "299085ea",
   "metadata": {},
   "outputs": [],
   "source": [
    "#genai.Client(api_key=GOOGLE_API_KEY).models.generate_content(model=model, con)"
   ]
  },
  {
   "cell_type": "code",
   "execution_count": 18,
   "id": "0f7bb20d",
   "metadata": {},
   "outputs": [],
   "source": [
    "#clientGenai.models.generate_content(model = model, contents='¿Cuál es la capital de Nueva Zelanda?')"
   ]
  },
  {
   "cell_type": "code",
   "execution_count": 84,
   "id": "c9653510",
   "metadata": {},
   "outputs": [],
   "source": [
    "def get_gemini_gemma_evaluation_summary(df_analyzed, genai_model, text_column,  cols_to_compare, model, category = 'sentimiento'):\n",
    "    '''\n",
    "        Función para comparar resultados de las columnas y detectar el mejor modelo de cada una \n",
    "    '''\n",
    "    if genai_model is None:\n",
    "        return \"Error: Necesitas cargar y configurar la API de tu LLM \"\n",
    "    summary_parts = []\n",
    "    cols_to_compare.append(text_column)\n",
    "\n",
    "    for col in cols_to_compare:\n",
    "        if col in df_analyzed.columns:\n",
    "            counts = df_analyzed[col].value_counts().to_string()\n",
    "            summary_parts.append(f\"Resumen de la columna '{col}':\\n{counts}\\n\")\n",
    "    \n",
    "    full_summary = \"\\n---\\n\".join(summary_parts)\n",
    "    prompt = f\"\"\"\n",
    "    Eres un analista de datos experto en procesamiento de lenguaje natural.\n",
    "    He analizado un conjunto de comentarios usando tres métodos diferentes y he obtenido los siguientes resultados agregados:\n",
    "\n",
    "    {full_summary}\n",
    "\n",
    "    Basado en esta distribución de resultados, por favor, proporciona una evaluación comparativa:\n",
    "    1. ¿Cuál es el mejor modelo en comparar {category} \n",
    "    1. ¿Qué método de análisis de sentimiento/emocion  parece ser más \"estricto\" o conservador al asignar sentimientos negativos o positivos?\n",
    "    2. ¿Hay alguna diferencia notable en la distribución que sugiera que un modelo podría estar capturando más matices que el otro?\n",
    "    3. Considerando la distribución de emociones, ¿cuál es el tono general de los comentarios?\n",
    "    4. ¿Qué método recomendarías para un análisis rápido y cuál para uno más detallado, basándote únicamente en estas distribuciones?\n",
    "\n",
    "    Sé conciso y directo en tu análisis.\n",
    "    \"\"\"\n",
    "\n",
    "    print(\"Enviando resumen a Gemma para evaluación experta...\")\n",
    "    try:\n",
    "        response = genai_model.models.generate_content(model = model, contents= prompt)\n",
    "        return response.text\n",
    "    except Exception as e:\n",
    "        return f\"Error al contactar a Gemma para la evaluación: {e}\"\n"
   ]
  },
  {
   "cell_type": "code",
   "execution_count": 76,
   "id": "1fb3db92",
   "metadata": {},
   "outputs": [],
   "source": [
    "import pandas as pd \n",
    "data_test = pd.read_csv(main_testing_path+ 'sentiment_analysis_dataset.csv')"
   ]
  },
  {
   "cell_type": "code",
   "execution_count": 77,
   "id": "a91120eb",
   "metadata": {},
   "outputs": [],
   "source": [
    "test = data_test['text'][1]"
   ]
  },
  {
   "cell_type": "code",
   "execution_count": 78,
   "id": "9a9f7ed5",
   "metadata": {},
   "outputs": [
    {
     "data": {
      "text/plain": [
       "'me siento abrumado'"
      ]
     },
     "execution_count": 78,
     "metadata": {},
     "output_type": "execute_result"
    }
   ],
   "source": [
    "test"
   ]
  },
  {
   "cell_type": "code",
   "execution_count": 79,
   "id": "c112e920",
   "metadata": {},
   "outputs": [
    {
     "data": {
      "text/plain": [
       "[{'label': '2 stars', 'score': 0.41682007908821106}]"
      ]
     },
     "execution_count": 79,
     "metadata": {},
     "output_type": "execute_result"
    }
   ],
   "source": [
    "sentiment_pipeline(test)"
   ]
  },
  {
   "cell_type": "code",
   "execution_count": 80,
   "id": "0b422506",
   "metadata": {},
   "outputs": [
    {
     "name": "stdout",
     "output_type": "stream",
     "text": [
      "emotion_original\n"
     ]
    }
   ],
   "source": [
    "### Primero las emoc\n",
    "print('emotion_original')\n",
    "import time \n",
    "\n"
   ]
  },
  {
   "cell_type": "code",
   "execution_count": null,
   "id": "9c2a83bf",
   "metadata": {},
   "outputs": [],
   "source": [
    "data_test = data_test.iloc[:10]"
   ]
  },
  {
   "cell_type": "code",
   "execution_count": 81,
   "id": "00fb865d",
   "metadata": {},
   "outputs": [
    {
     "name": "stdout",
     "output_type": "stream",
     "text": [
      "Comenzando Original Emotion\n",
      "Duró 3.524675985177358 minutos ejecutarse\n",
      "Comenzando Alternative Emotion\n",
      "Error en el análisis con Transformers: The expanded size of the tensor (1005) must match the existing size (514) at non-singleton dimension 1.  Target sizes: [1, 1005].  Tensor sizes: [1, 514]\n",
      "Duró 3.3157790581385296 minutos ejecutarse\n"
     ]
    }
   ],
   "source": [
    "print('Comenzando Original Emotion')\n",
    "time1 = time.time()\n",
    "data_test['original_emotion'] = data_test['text'].apply(generate_emotions_analysis)\n",
    "time2 = time.time()\n",
    "print(f'Duró {(time2-time1)/60} minutos ejecutarse' ) \n",
    "\n",
    "print('Comenzando Alternative Emotion')\n",
    "time1 = time.time()\n",
    "data_test['alternative_emotion'] = data_test['text'].apply(generate_emotion_hf)\n",
    "time2 = time.time()\n",
    "print(f'Duró {(time2-time1)/60} minutos ejecutarse' ) \n"
   ]
  },
  {
   "cell_type": "code",
   "execution_count": 82,
   "id": "9bbc138a",
   "metadata": {},
   "outputs": [
    {
     "name": "stdout",
     "output_type": "stream",
     "text": [
      "Comenzando Original Sentiment\n",
      "Duró 3.9949589172999063 minutos ejecutarse\n",
      "Comenzando Sentiment based emotion\n",
      "Duró 0.00016669034957885742 minutos ejecutarse\n",
      "Comenzando Alternative Sentiment\n",
      "Error en el análisis con Transformers: The size of tensor a (942) must match the size of tensor b (512) at non-singleton dimension 1\n",
      "Duró 3.9709062735239664 minutos ejecutarse\n"
     ]
    }
   ],
   "source": [
    "#### Después los sent xd\n",
    "print('Comenzando Original Sentiment')\n",
    "time1 = time.time()\n",
    "data_test['original_sentiment'] = data_test['text'].apply(generate_sentiment_analysis)\n",
    "time2 = time.time()\n",
    "print(f'Duró {(time2-time1)/60} minutos ejecutarse' ) \n",
    "\n",
    "print('Comenzando Sentiment based emotion')\n",
    "time1 = time.time()\n",
    "data_test['sentiment_based_on_emotion'] = data_test['original_emotion'].apply(sentiment_based_on_emotions_analysis)\n",
    "time2 = time.time()\n",
    "print(f'Duró {(time2-time1)/60} minutos ejecutarse' ) \n",
    "\n",
    "print('Comenzando Alternative Sentiment')\n",
    "time1 = time.time()\n",
    "data_test['alternative_sentiment'] = data_test['text'].apply(generate_sentiment_hf)\n",
    "time2 = time.time()\n",
    "print(f'Duró {(time2-time1)/60} minutos ejecutarse' ) \n",
    "\n",
    "\n"
   ]
  },
  {
   "cell_type": "code",
   "execution_count": 85,
   "id": "71c011f0",
   "metadata": {},
   "outputs": [
    {
     "data": {
      "application/vnd.microsoft.datawrangler.viewer.v0+json": {
       "columns": [
        {
         "name": "index",
         "rawType": "int64",
         "type": "integer"
        },
        {
         "name": "user",
         "rawType": "object",
         "type": "string"
        },
        {
         "name": "text",
         "rawType": "object",
         "type": "string"
        },
        {
         "name": "date",
         "rawType": "object",
         "type": "string"
        },
        {
         "name": "emotion",
         "rawType": "object",
         "type": "string"
        },
        {
         "name": "sentiment",
         "rawType": "object",
         "type": "string"
        },
        {
         "name": "original_emotion",
         "rawType": "object",
         "type": "string"
        },
        {
         "name": "alternative_emotion",
         "rawType": "object",
         "type": "string"
        },
        {
         "name": "original_sentiment",
         "rawType": "object",
         "type": "string"
        },
        {
         "name": "sentiment_based_on_emotion",
         "rawType": "object",
         "type": "string"
        },
        {
         "name": "alternative_sentiment",
         "rawType": "object",
         "type": "string"
        }
       ],
       "ref": "d25a9665-4fae-4881-a993-805687bccbe5",
       "rows": [
        [
         "0",
         "@erreborda",
         "termine bien abrumado después de hoy",
         "Jan 6, 2024 · 2:53 AM UTC",
         "overwhelmed",
         "scared",
         "Tristeza",
         "Neutral",
         "Negativo",
         "Negativo",
         "Neutral"
        ],
        [
         "1",
         "@shpiderduck",
         "me siento abrumado",
         "Jan 6, 2024 · 2:35 AM UTC",
         "overwhelmed",
         "scared",
         "Tristeza",
         "Tristeza",
         "Negativo",
         "Negativo",
         "Neutral"
        ],
        [
         "2",
         "@Alex_R_art",
         "Me siento un poco abrumado por la cantidad de cosas que quiero dibujar, ver, jugar y leer. Odio esta sensación xdddd",
         "Jan 6, 2024 · 12:20 AM UTC",
         "overwhelmed",
         "scared",
         "Miedo",
         "Tristeza",
         "Negativo",
         "Negativo",
         "Neutral"
        ],
        [
         "3",
         "@anggelinaa97",
         "Salvador la única persona que no la ha abrumado de versiones❤😒❤ #NadieComoTú",
         "Jan 5, 2024 · 10:38 PM UTC",
         "overwhelmed",
         "scared",
         "Neutral",
         "Felicidad",
         "Negativo",
         "Neutral",
         "Neutral"
        ],
        [
         "4",
         "@diegoreyesvqz",
         "Denme un helado o algo que ando full abrumado.",
         "Jan 5, 2024 · 8:38 PM UTC",
         "overwhelmed",
         "scared",
         "Neutral",
         "Neutral",
         "Positivo",
         "Neutral",
         "Neutral"
        ],
        [
         "5",
         "@Alfred_Cripto",
         "Estoy abrumado de airdrops , de youtube y de todo. Es imposible gestionarlo todo , todo se mueve muy rápido. O determino un plan o me quemo",
         "Jan 5, 2024 · 7:07 PM UTC",
         "overwhelmed",
         "scared",
         "Miedo",
         "Neutral",
         "Negativo",
         "Negativo",
         "Negativo"
        ],
        [
         "6",
         "@DePacotilla",
         "#MicroCuento: A veces, sin motivo aparente, o, más bien, por razones quizás fútiles, se le venían encima unas nostalgias inmensas, que lo dejaban paralizado y abrumado... ¿Serían los \"Heraldos Negros\" de los que hablaba Vallejo?...",
         "Jan 5, 2024 · 4:39 PM UTC",
         "overwhelmed",
         "scared",
         "Tristeza",
         "Tristeza",
         "Negativo",
         "Negativo",
         "Neutral"
        ],
        [
         "7",
         "@messagewvmxn",
         "Oh, las vacaciones. Tesoros inciertos, venideros y preciados para cualquier trabajador abrumado por la sobreexplotación. Un sueño fugaz en el que el dinero parecía no importar, a cambio de un breve respiro de placer, diversión y alivio.  Su tesoro perdido, ahora convertido",
         "Jan 5, 2024 · 6:19 AM UTC",
         "overwhelmed",
         "scared",
         "Tristeza",
         "Felicidad",
         "Negativo",
         "Negativo",
         "Neutral"
        ],
        [
         "8",
         "@my25thour",
         "me siento muy abrumado",
         "Jan 5, 2024 · 5:30 AM UTC",
         "overwhelmed",
         "scared",
         "Tristeza",
         "Tristeza",
         "Negativo",
         "Negativo",
         "Neutral"
        ],
        [
         "9",
         "@JorgeD1428",
         "Consejo  que nadie pidió:  Si un día te sientes abrumado, triste, enojado, ansioso…   Cierra tus ojos, y piérdete en tu respiración",
         "Jan 5, 2024 · 4:57 AM UTC",
         "overwhelmed",
         "scared",
         "Neutral",
         "Tristeza",
         "Negativo",
         "Neutral",
         "Neutral"
        ],
        [
         "10",
         "@marceccg",
         "Y entonces aprendimos que si está desbordado y ni él se aguanta es por dos razones: hambre o sueño. Hoy resultó ser la segunda y ya, hijo dormido a las 8 p. m.  🥳",
         "Jan 6, 2024 · 2:18 AM UTC",
         "overwhelmed",
         "scared",
         "Neutral",
         "Felicidad",
         "Negativo",
         "Neutral",
         "Neutral"
        ],
        [
         "11",
         "@_VicMartino",
         "NADA se va a solucionar sin una ley anti fake news. El manejo de la información está absolutamente desbordado.",
         "Jan 5, 2024 · 9:22 PM UTC",
         "overwhelmed",
         "scared",
         "Neutral",
         "Neutral",
         "Negativo",
         "Neutral",
         "Negativo"
        ],
        [
         "12",
         "@GinoMonty",
         "Yo lo que veo en este presidente es un ego desbordado, un aire de superioridad y bastantante indolencia sobre la tragedia que vive el pais.",
         "Jan 5, 2024 · 9:13 PM UTC",
         "overwhelmed",
         "scared",
         "Enojo",
         "Tristeza",
         "Negativo",
         "Negativo",
         "Neutral"
        ],
        [
         "13",
         "@Elfabripa2",
         "estoy desbordado",
         "Jan 5, 2024 · 8:33 PM UTC",
         "overwhelmed",
         "scared",
         "Sorpresa",
         "Neutral",
         "Negativo",
         "Positivo",
         "Neutral"
        ],
        [
         "14",
         "@thomymz",
         "Dios estoy desbordado",
         "Jan 5, 2024 · 8:27 PM UTC",
         "overwhelmed",
         "scared",
         "Sorpresa",
         "Neutral",
         "Negativo",
         "Positivo",
         "Neutral"
        ],
        [
         "15",
         "@JoniToujan10",
         "Desbordado de felicidad y de ansiedad🥹🫶🏽",
         "Jan 5, 2024 · 8:24 PM UTC",
         "overwhelmed",
         "scared",
         "Tristeza",
         "Felicidad",
         "Neutral",
         "Negativo",
         "Neutral"
        ],
        [
         "16",
         "@brachn",
         "Termino de lavar la loza,tomo un vaso de agua y ya esta desbordado de platos y ollas sucias",
         "Jan 5, 2024 · 7:25 PM UTC",
         "overwhelmed",
         "scared",
         "Neutral",
         "Neutral",
         "Negativo",
         "Neutral",
         "Negativo"
        ],
        [
         "17",
         "@hpititiminisky",
         "Las consecuencias de lo que se viene haciendo desde 2002 hasta ahora:  Default Sin justicia Hiperinflacion Infraestructura destruida Endeudamiento Gasto publico desbordado Carga tributaria confiscatoria Regulaciones que violan la constitucion",
         "Jan 5, 2024 · 6:41 PM UTC",
         "overwhelmed",
         "scared",
         "Enojo",
         "Tristeza",
         "Negativo",
         "Negativo",
         "Negativo"
        ],
        [
         "18",
         "@CryptoB57982",
         "\"Simplemente obstruí un poco mi inodoro y comenzó desbordado y tuve un ataque de pánico así que usé el émbolo que fue tan jodidamente tonto porque luego comenzó a desbordarse aún más y luego comencé temblando y fue a poner toallas alrededor del fondo de el baño lo cual me hace-",
         "Jan 5, 2024 · 6:36 PM UTC",
         "overwhelmed",
         "scared",
         "Neutral",
         "Neutral",
         "Negativo",
         "Neutral",
         "Neutral"
        ],
        [
         "19",
         "@rufianmelancoli",
         "Pones jazz quesque para relajarte y todo es un sonidero desbordado para todos lados.  Ya mejor le cambio a canciones de Celine Dion.",
         "Jan 5, 2024 · 6:31 PM UTC",
         "overwhelmed",
         "scared",
         "Neutral",
         "Felicidad",
         "Negativo",
         "Neutral",
         "Neutral"
        ],
        [
         "20",
         "@Juanmamlardon",
         "Como ha dicho él mismo es importante ver cómo se levanta mañana. El músculo debe estar muy sobrecargado tras casi 4 horas pero si no nota mucho más es posible que no haya rotura ni desgarro, porque eso se debe notar (o no)... En 10 días empieza Australia #BrisbaneTennis",
         "Jan 5, 2024 · 2:58 PM UTC",
         "overwhelmed",
         "scared",
         "Neutral",
         "Neutral",
         "Neutral",
         "Neutral",
         "Neutral"
        ],
        [
         "21",
         "@HagovProvincia",
         "Vivir en ignorancia aporta mas tranquilidad, pero es mejor estar sobrecargado de información y ser pragmatico y coherente con la misma, antes que vivir en una burbuja sin saber lo que acontece a nuestro alrededor.  Un incendio te va a quemar por mas que lo ignores con Vehemencia.",
         "Jan 5, 2024 · 2:29 AM UTC",
         "overwhelmed",
         "scared",
         "Enojo",
         "Felicidad",
         "Negativo",
         "Negativo",
         "Neutral"
        ],
        [
         "22",
         "@birdie_belen",
         "Qué día más sobrecargado de emoción. No me den más días así que sobrepienso.",
         "Jan 5, 2024 · 12:45 AM UTC",
         "overwhelmed",
         "scared",
         "Tristeza",
         "Felicidad",
         "Negativo",
         "Negativo",
         "Neutral"
        ],
        [
         "23",
         "@kysiiseung",
         "ya le dije q me escriba cuando qiera, si no lo quiere hacer yo no le voy a andar rogando, ando sobrecargado de cosas que lo único que puedo hacer es responder de a ratos",
         "Jan 4, 2024 · 4:25 PM UTC",
         "overwhelmed",
         "scared",
         "Neutral",
         "Neutral",
         "Negativo",
         "Neutral",
         "Neutral"
        ],
        [
         "24",
         "@EruDruida",
         "Hoy si   El chisme anda sobrecargado",
         "Jan 4, 2024 · 6:35 AM UTC",
         "overwhelmed",
         "scared",
         "Neutral",
         "Neutral",
         "Negativo",
         "Neutral",
         "Neutral"
        ],
        [
         "25",
         "@vivianavega_",
         "No hay nada de malo en llorar por un mal día, por estrés sobrecargado de la Universidad o el trabajo, por problemas personales o por el motivo que quieran. Si usted quiere llorar, hágalo donde quiera y a la hora que quiera, libérese de ese peso que solo USTED entiende.",
         "Jan 4, 2024 · 5:45 AM UTC",
         "overwhelmed",
         "scared",
         "Tristeza",
         "Neutral",
         "Negativo",
         "Negativo",
         "Neutral"
        ],
        [
         "26",
         "@YoouurrMama",
         "Acaban de soltar la lista de clientes del Pedófilo Epstein y el site está sobrecargado. El mundo entero pendiente a ver los nombres de Pedófilos desgraciados que violaron y traficaron niños. 🤬🐷 Obvio, salió Bill Clinton y Prince Andrew. Asquerosos Cerdos 🐽",
         "Jan 4, 2024 · 12:56 AM UTC",
         "overwhelmed",
         "scared",
         "Enojo",
         "Tristeza",
         "Negativo",
         "Negativo",
         "Negativo"
        ],
        [
         "27",
         "@rafabravo",
         "Han conseguido lo más dificil, no han arreglado el problema en los centros donde había sobrecarga y han sobrecargado los centros donde no había problemas",
         "Jan 3, 2024 · 10:27 AM UTC",
         "overwhelmed",
         "scared",
         "Neutral",
         "Felicidad",
         "Negativo",
         "Neutral",
         "Neutral"
        ],
        [
         "28",
         "@AlexDia44068943",
         "Eliminado cosas de mi galería me di cuenta de lo quemado que estaba mental, físicamente y en todo sentidos, de lo sobrecargado que estaba en todo momento. Del llanto que se me salía de la nada por qué sentía que ya no podía más.",
         "Jan 2, 2024 · 12:00 PM UTC",
         "overwhelmed",
         "scared",
         "Tristeza",
         "Tristeza",
         "Negativo",
         "Negativo",
         "Neutral"
        ],
        [
         "29",
         "@inmywonyoungism",
         "ME ESTÁN DICIENDO QUE MI MAQUILLAJE ES MUY SOBRECARGADO, ellos no entienden que nunca es suficiente brillo en los ojos",
         "Dec 31, 2023 · 11:20 PM UTC",
         "overwhelmed",
         "scared",
         "Neutral",
         "Felicidad",
         "Negativo",
         "Neutral",
         "Neutral"
        ],
        [
         "30",
         "@lanauwu",
         "Desbordante y efervescente, pero a qué costo?",
         "Jan 6, 2024 · 2:05 AM UTC",
         "overwhelmed",
         "scared",
         "Neutral",
         "Felicidad",
         "Neutral",
         "Neutral",
         "Neutral"
        ],
        [
         "31",
         "@Juandelpicapie1",
         "Llenita de pueblo va a estar la \"cena en el conrad\" de yamandu. Desbordante de humildad.  Oddone seguro va.. Cpa ferrere le paga el costoso ticket Capaz habla de ajuste o mal del plebiscito  A  U$10000 la mesa, para además escuchar al cheto de Vilaro  Realmente, bien de izquierda",
         "Jan 6, 2024 · 1:43 AM UTC",
         "overwhelmed",
         "scared",
         "Neutral",
         "Felicidad",
         "Negativo",
         "Neutral",
         "Neutral"
        ],
        [
         "32",
         "@SeleneSenaa",
         "También me veo cantando a corazón desbordante  todos los temas de Floricienta",
         "Jan 5, 2024 · 11:30 PM UTC",
         "overwhelmed",
         "scared",
         "Neutral",
         "Felicidad",
         "Positivo",
         "Neutral",
         "Neutral"
        ],
        [
         "33",
         "@Cecimoreeno",
         "Ando en mi romantic era ❤️‍🔥 Alv el dolor, bienvenido el amor desbordante",
         "Jan 5, 2024 · 7:11 PM UTC",
         "overwhelmed",
         "scared",
         "Neutral",
         "Amor",
         "Neutral",
         "Neutral",
         "Neutral"
        ],
        [
         "34",
         "@irenepfenty",
         "Viendo la cabalgata con ilusión desbordante desde Oban, costa oeste de Escocia! Irene, Dani y Pelusa 🐶#CabalgataRTVE",
         "Jan 5, 2024 · 6:57 PM UTC",
         "overwhelmed",
         "scared",
         "Alegría",
         "Neutral",
         "Neutral",
         "Positivo",
         "Neutral"
        ],
        [
         "35",
         "@AbgVanegas",
         "La desbordante corrupción, al infiltrarse en la estructura del poder, ha resultado devastadora. La lucha contra este fenómeno ha utilizado tácticas persecutorias propias de sistemas políticos cerrados. Disminuir la corrupción implica revitalizar el sistema constitucional, una tarea que solo puede lograrse mediante innovaciones institucionales. La consulta popular debería ser una oportunidad para avanzar en esta dirección.",
         "Jan 5, 2024 · 5:32 PM UTC",
         "overwhelmed",
         "scared",
         "Tristeza",
         "Neutral",
         "Positivo",
         "Negativo",
         "Neutral"
        ],
        [
         "36",
         "@stic_1299",
         "VIERNES 5 DE ENERO: AMADO DIOS, en este nuevo amanecer, elevo mi corazón hacia Ti con gratitud desbordante. Gracias por el regalo de un día más de vida. Amén 🙏🙏🙏",
         "Jan 5, 2024 · 11:59 AM UTC",
         "overwhelmed",
         "scared",
         "Alegría",
         "Neutral",
         "Positivo",
         "Positivo",
         "Positivo"
        ],
        [
         "37",
         "@Nataliagrs66",
         "El amor con la persona correcta no se siente como una emoción desbordante que vacila, sino como una sensación de paz y libertad de ser tú misma en compañía del otro.",
         "Jan 4, 2024 · 11:04 PM UTC",
         "overwhelmed",
         "scared",
         "Alegría",
         "Felicidad",
         "Positivo",
         "Positivo",
         "Neutral"
        ],
        [
         "38",
         "@polgrande_",
         "#LPAxFCB   se hablaba de que Lamine no estaba igual de desbordante y valiente en los últimos partidos y por eso Raphinha robó el puesto. pero claramente para estos minutos finales donde te vienes arriba y el partido está a tu favor Lamine Yamal es DECISIVO.  ha hecho el 1-2.",
         "Jan 4, 2024 · 10:37 PM UTC",
         "overwhelmed",
         "scared",
         "Neutral",
         "Felicidad",
         "Negativo",
         "Neutral",
         "Neutral"
        ],
        [
         "39",
         "@QueenSieg",
         "ㅤ── No entiendo lo que dices, pero debes detenerte. No existe ninguna gemela mía.   De a poco, aquella desbordante energía que cubrió su silueta de oscuridad comienza a desaparecer.",
         "Jan 4, 2024 · 2:26 PM UTC",
         "overwhelmed",
         "scared",
         "Neutral",
         "Neutral",
         "Neutral",
         "Neutral",
         "Neutral"
        ],
        [
         "40",
         "@pedroacostag",
         "La manera en la que es altamente probable que cuando llegue a Pto me encuentre el apartamento inundado",
         "Jan 6, 2024 · 12:29 AM UTC",
         "overwhelmed",
         "scared",
         "Neutral",
         "Neutral",
         "Neutral",
         "Neutral",
         "Neutral"
        ],
        [
         "41",
         "@Azriel_84",
         "Bueno, hoy he inundado mi ciudad y buggeado el Spiderman.  Trabajo bien hecho",
         "Jan 5, 2024 · 11:12 PM UTC",
         "overwhelmed",
         "scared",
         "Neutral",
         "Felicidad",
         "Positivo",
         "Neutral",
         "Neutral"
        ],
        [
         "42",
         "@arrobalacamm_",
         "deje todo el patio inundado y la alfombra impoluta de mugre ajajajaj q malaria",
         "Jan 5, 2024 · 9:16 PM UTC",
         "overwhelmed",
         "scared",
         "Neutral",
         "Neutral",
         "Negativo",
         "Neutral",
         "Negativo"
        ],
        [
         "43",
         "@cosmi4revolu",
         "Si no hubiera pasado lo que pasó en Guatemala mi tuiter estaría inundado de puro amortz del amor inmenso que tengo por un hermoso ser 🥰",
         "Jan 5, 2024 · 7:58 PM UTC",
         "overwhelmed",
         "scared",
         "Alegría",
         "Felicidad",
         "Positivo",
         "Positivo",
         "Neutral"
        ],
        [
         "44",
         "@SibiDiminguiz",
         "El CONICET tendria q haber inundado el pais con repelentes",
         "Jan 5, 2024 · 5:14 PM UTC",
         "overwhelmed",
         "scared",
         "Neutral",
         "Neutral",
         "Negativo",
         "Neutral",
         "Neutral"
        ],
        [
         "45",
         "@MafeCas95098087",
         "Juanchaco en Buenaventura Inundado de Basura.. temporada de turismo . Y te recibe un Basurero ❌en el Muelle.. muy mala impresion para el Turista. @FranciaMarquezM @DilianFrancisca @LaFMCali @elpaiscali @MabelLaraNews @ELTIEMPO @sergio_fajardo @MinAmbienteCo @ParquesColombia",
         "Jan 5, 2024 · 3:00 PM UTC",
         "overwhelmed",
         "scared",
         "Enojo",
         "Neutral",
         "Negativo",
         "Negativo",
         "Negativo"
        ],
        [
         "46",
         "@MafeCas95098087",
         "Juanchaco en Buenaventura Inundado de Basura.. temporada de turismo . Y ye recibe un Basurero ❌en el Muelle.. muy mala impresion para el Turista. @CaracolRadio @GobValle @EnterateCali @Noti90Minutos @MabelLaraNews @ClaraLuzRoldan @BLUPacifico @HotelMaguipi @petrogustavo",
         "Jan 5, 2024 · 2:57 PM UTC",
         "overwhelmed",
         "scared",
         "Enojo",
         "Neutral",
         "Negativo",
         "Negativo",
         "Negativo"
        ],
        [
         "47",
         "@mar_inundado",
         "El año no puede empezar peor :)",
         "Jan 5, 2024 · 2:06 PM UTC",
         "overwhelmed",
         "scared",
         "Neutral",
         "Felicidad",
         "Positivo",
         "Neutral",
         "Neutral"
        ],
        [
         "48",
         "@LJRC___",
         "36 de diciembre y amanecimos con el apartamento inundado jajajajaja",
         "Jan 5, 2024 · 1:20 PM UTC",
         "overwhelmed",
         "scared",
         "Neutral",
         "Neutral",
         "Negativo",
         "Neutral",
         "Neutral"
        ],
        [
         "49",
         "@BrisaGonzalez69",
         "El patio re inundado quedó 🤦",
         "Jan 5, 2024 · 12:48 PM UTC",
         "overwhelmed",
         "scared",
         "Neutral",
         "Neutral",
         "Negativo",
         "Neutral",
         "Neutral"
        ]
       ],
       "shape": {
        "columns": 10,
        "rows": 2590
       }
      },
      "text/html": [
       "<div>\n",
       "<style scoped>\n",
       "    .dataframe tbody tr th:only-of-type {\n",
       "        vertical-align: middle;\n",
       "    }\n",
       "\n",
       "    .dataframe tbody tr th {\n",
       "        vertical-align: top;\n",
       "    }\n",
       "\n",
       "    .dataframe thead th {\n",
       "        text-align: right;\n",
       "    }\n",
       "</style>\n",
       "<table border=\"1\" class=\"dataframe\">\n",
       "  <thead>\n",
       "    <tr style=\"text-align: right;\">\n",
       "      <th></th>\n",
       "      <th>user</th>\n",
       "      <th>text</th>\n",
       "      <th>date</th>\n",
       "      <th>emotion</th>\n",
       "      <th>sentiment</th>\n",
       "      <th>original_emotion</th>\n",
       "      <th>alternative_emotion</th>\n",
       "      <th>original_sentiment</th>\n",
       "      <th>sentiment_based_on_emotion</th>\n",
       "      <th>alternative_sentiment</th>\n",
       "    </tr>\n",
       "  </thead>\n",
       "  <tbody>\n",
       "    <tr>\n",
       "      <th>0</th>\n",
       "      <td>@erreborda</td>\n",
       "      <td>termine bien abrumado después de hoy</td>\n",
       "      <td>Jan 6, 2024 · 2:53 AM UTC</td>\n",
       "      <td>overwhelmed</td>\n",
       "      <td>scared</td>\n",
       "      <td>Tristeza</td>\n",
       "      <td>Neutral</td>\n",
       "      <td>Negativo</td>\n",
       "      <td>Negativo</td>\n",
       "      <td>Neutral</td>\n",
       "    </tr>\n",
       "    <tr>\n",
       "      <th>1</th>\n",
       "      <td>@shpiderduck</td>\n",
       "      <td>me siento abrumado</td>\n",
       "      <td>Jan 6, 2024 · 2:35 AM UTC</td>\n",
       "      <td>overwhelmed</td>\n",
       "      <td>scared</td>\n",
       "      <td>Tristeza</td>\n",
       "      <td>Tristeza</td>\n",
       "      <td>Negativo</td>\n",
       "      <td>Negativo</td>\n",
       "      <td>Neutral</td>\n",
       "    </tr>\n",
       "    <tr>\n",
       "      <th>2</th>\n",
       "      <td>@Alex_R_art</td>\n",
       "      <td>Me siento un poco abrumado por la cantidad de ...</td>\n",
       "      <td>Jan 6, 2024 · 12:20 AM UTC</td>\n",
       "      <td>overwhelmed</td>\n",
       "      <td>scared</td>\n",
       "      <td>Miedo</td>\n",
       "      <td>Tristeza</td>\n",
       "      <td>Negativo</td>\n",
       "      <td>Negativo</td>\n",
       "      <td>Neutral</td>\n",
       "    </tr>\n",
       "    <tr>\n",
       "      <th>3</th>\n",
       "      <td>@anggelinaa97</td>\n",
       "      <td>Salvador la única persona que no la ha abrumad...</td>\n",
       "      <td>Jan 5, 2024 · 10:38 PM UTC</td>\n",
       "      <td>overwhelmed</td>\n",
       "      <td>scared</td>\n",
       "      <td>Neutral</td>\n",
       "      <td>Felicidad</td>\n",
       "      <td>Negativo</td>\n",
       "      <td>Neutral</td>\n",
       "      <td>Neutral</td>\n",
       "    </tr>\n",
       "    <tr>\n",
       "      <th>4</th>\n",
       "      <td>@diegoreyesvqz</td>\n",
       "      <td>Denme un helado o algo que ando full abrumado.</td>\n",
       "      <td>Jan 5, 2024 · 8:38 PM UTC</td>\n",
       "      <td>overwhelmed</td>\n",
       "      <td>scared</td>\n",
       "      <td>Neutral</td>\n",
       "      <td>Neutral</td>\n",
       "      <td>Positivo</td>\n",
       "      <td>Neutral</td>\n",
       "      <td>Neutral</td>\n",
       "    </tr>\n",
       "    <tr>\n",
       "      <th>...</th>\n",
       "      <td>...</td>\n",
       "      <td>...</td>\n",
       "      <td>...</td>\n",
       "      <td>...</td>\n",
       "      <td>...</td>\n",
       "      <td>...</td>\n",
       "      <td>...</td>\n",
       "      <td>...</td>\n",
       "      <td>...</td>\n",
       "      <td>...</td>\n",
       "    </tr>\n",
       "    <tr>\n",
       "      <th>2585</th>\n",
       "      <td>@lavivianaleyva</td>\n",
       "      <td>No podemos vivir con miedo:   ¡Manejen borrach...</td>\n",
       "      <td>Jan 6, 2024 · 3:08 AM UTC</td>\n",
       "      <td>daring</td>\n",
       "      <td>joyful</td>\n",
       "      <td>Enojo</td>\n",
       "      <td>Felicidad</td>\n",
       "      <td>Neutral</td>\n",
       "      <td>Negativo</td>\n",
       "      <td>Neutral</td>\n",
       "    </tr>\n",
       "    <tr>\n",
       "      <th>2586</th>\n",
       "      <td>@Carmeen_Alicia</td>\n",
       "      <td>La vida es un constante, SIN MIEDO AL ÉXITO 💅🏼</td>\n",
       "      <td>Jan 6, 2024 · 3:07 AM UTC</td>\n",
       "      <td>daring</td>\n",
       "      <td>joyful</td>\n",
       "      <td>Neutral</td>\n",
       "      <td>Felicidad</td>\n",
       "      <td>Positivo</td>\n",
       "      <td>Neutral</td>\n",
       "      <td>Neutral</td>\n",
       "    </tr>\n",
       "    <tr>\n",
       "      <th>2587</th>\n",
       "      <td>@homicidios_</td>\n",
       "      <td>Esquizofrenia = mente dividida: Miedo a las re...</td>\n",
       "      <td>Jan 6, 2024 · 2:59 AM UTC</td>\n",
       "      <td>daring</td>\n",
       "      <td>joyful</td>\n",
       "      <td>Neutral</td>\n",
       "      <td>Neutral</td>\n",
       "      <td>Negativo</td>\n",
       "      <td>Neutral</td>\n",
       "      <td>Neutral</td>\n",
       "    </tr>\n",
       "    <tr>\n",
       "      <th>2588</th>\n",
       "      <td>@brigethcoba</td>\n",
       "      <td>\"Lo que más miedo me da, es ver cómo desaparec...</td>\n",
       "      <td>Jan 6, 2024 · 2:55 AM UTC</td>\n",
       "      <td>daring</td>\n",
       "      <td>joyful</td>\n",
       "      <td>Miedo</td>\n",
       "      <td>Miedo</td>\n",
       "      <td>Negativo</td>\n",
       "      <td>Negativo</td>\n",
       "      <td>Neutral</td>\n",
       "    </tr>\n",
       "    <tr>\n",
       "      <th>2589</th>\n",
       "      <td>@nanyfrias11</td>\n",
       "      <td>Saltando de apoco ala pile sin agua xd sin mie...</td>\n",
       "      <td>Jan 6, 2024 · 2:54 AM UTC</td>\n",
       "      <td>daring</td>\n",
       "      <td>joyful</td>\n",
       "      <td>Neutral</td>\n",
       "      <td>Neutral</td>\n",
       "      <td>Positivo</td>\n",
       "      <td>Neutral</td>\n",
       "      <td>Neutral</td>\n",
       "    </tr>\n",
       "  </tbody>\n",
       "</table>\n",
       "<p>2590 rows × 10 columns</p>\n",
       "</div>"
      ],
      "text/plain": [
       "                 user                                               text  \\\n",
       "0          @erreborda               termine bien abrumado después de hoy   \n",
       "1        @shpiderduck                                 me siento abrumado   \n",
       "2         @Alex_R_art  Me siento un poco abrumado por la cantidad de ...   \n",
       "3       @anggelinaa97  Salvador la única persona que no la ha abrumad...   \n",
       "4      @diegoreyesvqz     Denme un helado o algo que ando full abrumado.   \n",
       "...               ...                                                ...   \n",
       "2585  @lavivianaleyva  No podemos vivir con miedo:   ¡Manejen borrach...   \n",
       "2586  @Carmeen_Alicia     La vida es un constante, SIN MIEDO AL ÉXITO 💅🏼   \n",
       "2587     @homicidios_  Esquizofrenia = mente dividida: Miedo a las re...   \n",
       "2588     @brigethcoba  \"Lo que más miedo me da, es ver cómo desaparec...   \n",
       "2589     @nanyfrias11  Saltando de apoco ala pile sin agua xd sin mie...   \n",
       "\n",
       "                            date      emotion sentiment original_emotion  \\\n",
       "0      Jan 6, 2024 · 2:53 AM UTC  overwhelmed    scared         Tristeza   \n",
       "1      Jan 6, 2024 · 2:35 AM UTC  overwhelmed    scared         Tristeza   \n",
       "2     Jan 6, 2024 · 12:20 AM UTC  overwhelmed    scared            Miedo   \n",
       "3     Jan 5, 2024 · 10:38 PM UTC  overwhelmed    scared          Neutral   \n",
       "4      Jan 5, 2024 · 8:38 PM UTC  overwhelmed    scared          Neutral   \n",
       "...                          ...          ...       ...              ...   \n",
       "2585   Jan 6, 2024 · 3:08 AM UTC       daring    joyful            Enojo   \n",
       "2586   Jan 6, 2024 · 3:07 AM UTC       daring    joyful          Neutral   \n",
       "2587   Jan 6, 2024 · 2:59 AM UTC       daring    joyful          Neutral   \n",
       "2588   Jan 6, 2024 · 2:55 AM UTC       daring    joyful            Miedo   \n",
       "2589   Jan 6, 2024 · 2:54 AM UTC       daring    joyful          Neutral   \n",
       "\n",
       "     alternative_emotion original_sentiment sentiment_based_on_emotion  \\\n",
       "0                Neutral           Negativo                   Negativo   \n",
       "1               Tristeza           Negativo                   Negativo   \n",
       "2               Tristeza           Negativo                   Negativo   \n",
       "3              Felicidad           Negativo                    Neutral   \n",
       "4                Neutral           Positivo                    Neutral   \n",
       "...                  ...                ...                        ...   \n",
       "2585           Felicidad            Neutral                   Negativo   \n",
       "2586           Felicidad           Positivo                    Neutral   \n",
       "2587             Neutral           Negativo                    Neutral   \n",
       "2588               Miedo           Negativo                   Negativo   \n",
       "2589             Neutral           Positivo                    Neutral   \n",
       "\n",
       "     alternative_sentiment  \n",
       "0                  Neutral  \n",
       "1                  Neutral  \n",
       "2                  Neutral  \n",
       "3                  Neutral  \n",
       "4                  Neutral  \n",
       "...                    ...  \n",
       "2585               Neutral  \n",
       "2586               Neutral  \n",
       "2587               Neutral  \n",
       "2588               Neutral  \n",
       "2589               Neutral  \n",
       "\n",
       "[2590 rows x 10 columns]"
      ]
     },
     "execution_count": 85,
     "metadata": {},
     "output_type": "execute_result"
    }
   ],
   "source": [
    "data_test"
   ]
  },
  {
   "cell_type": "code",
   "execution_count": 88,
   "id": "01bfd715",
   "metadata": {},
   "outputs": [
    {
     "name": "stdout",
     "output_type": "stream",
     "text": [
      "Enviando resumen a Gemma para evaluación experta...\n"
     ]
    },
    {
     "data": {
      "text/plain": [
       "\"Error al contactar a Gemma para la evaluación: 403 PERMISSION_DENIED. {'error': {'code': 403, 'message': 'Generative Language API has not been used in project 734555245231 before or it is disabled. Enable it by visiting https://console.developers.google.com/apis/api/generativelanguage.googleapis.com/overview?project=734555245231 then retry. If you enabled this API recently, wait a few minutes for the action to propagate to our systems and retry.', 'status': 'PERMISSION_DENIED', 'details': [{'@type': 'type.googleapis.com/google.rpc.ErrorInfo', 'reason': 'SERVICE_DISABLED', 'domain': 'googleapis.com', 'metadata': {'activationUrl': 'https://console.developers.google.com/apis/api/generativelanguage.googleapis.com/overview?project=734555245231', 'containerInfo': '734555245231', 'consumer': 'projects/734555245231', 'service': 'generativelanguage.googleapis.com', 'serviceTitle': 'Generative Language API'}}, {'@type': 'type.googleapis.com/google.rpc.LocalizedMessage', 'locale': 'en-US', 'message': 'Generative Language API has not been used in project 734555245231 before or it is disabled. Enable it by visiting https://console.developers.google.com/apis/api/generativelanguage.googleapis.com/overview?project=734555245231 then retry. If you enabled this API recently, wait a few minutes for the action to propagate to our systems and retry.'}, {'@type': 'type.googleapis.com/google.rpc.Help', 'links': [{'description': 'Google developers console API activation', 'url': 'https://console.developers.google.com/apis/api/generativelanguage.googleapis.com/overview?project=734555245231'}]}]}}\""
      ]
     },
     "execution_count": 88,
     "metadata": {},
     "output_type": "execute_result"
    }
   ],
   "source": [
    "get_gemini_gemma_evaluation_summary(data_test.iloc[:2], \n",
    "                                    genai_model= clientGenai, \n",
    "                                    text_column='text',  cols_to_compare = ['original_emotion', 'alternative_emotion'],\n",
    "                                    model='gemini-2.0-flash-lite', \n",
    "                                    category = 'emocion')"
   ]
  }
 ],
 "metadata": {
  "kernelspec": {
   "display_name": "Iris_WebScrapper",
   "language": "python",
   "name": "python3"
  },
  "language_info": {
   "codemirror_mode": {
    "name": "ipython",
    "version": 3
   },
   "file_extension": ".py",
   "mimetype": "text/x-python",
   "name": "python",
   "nbconvert_exporter": "python",
   "pygments_lexer": "ipython3",
   "version": "3.12.9"
  }
 },
 "nbformat": 4,
 "nbformat_minor": 5
}
